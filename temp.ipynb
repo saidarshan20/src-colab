{
  "cells": [
    {
      "cell_type": "markdown",
      "metadata": {
        "id": "view-in-github",
        "colab_type": "text"
      },
      "source": [
        "<a href=\"https://colab.research.google.com/github/saidarshan20/src-colab/blob/main/temp.ipynb\" target=\"_parent\"><img src=\"https://colab.research.google.com/assets/colab-badge.svg\" alt=\"Open In Colab\"/></a>"
      ]
    },
    {
      "cell_type": "code",
      "execution_count": null,
      "id": "1067a95b",
      "metadata": {
        "id": "1067a95b",
        "outputId": "a50018b6-77e3-4f91-cac9-ebe63bc44ee0",
        "colab": {
          "base_uri": "https://localhost:8080/"
        }
      },
      "outputs": [
        {
          "output_type": "stream",
          "name": "stdout",
          "text": [
            "hello wolrd\n"
          ]
        }
      ],
      "source": [
        "print(\"hello wolrd\")"
      ]
    },
    {
      "cell_type": "code",
      "source": [
        "name = input(\"what is ur name? \\n\")\n",
        "print(\"Hello \" + name)"
      ],
      "metadata": {
        "id": "SzCMfGvlUOSn",
        "outputId": "625f43cd-b7d4-4fb2-ff79-2c71956f39f2",
        "colab": {
          "base_uri": "https://localhost:8080/"
        }
      },
      "id": "SzCMfGvlUOSn",
      "execution_count": 6,
      "outputs": [
        {
          "output_type": "stream",
          "name": "stdout",
          "text": [
            "what is ur name? \n",
            "Sai\n",
            "Hello Sai\n"
          ]
        }
      ]
    },
    {
      "cell_type": "code",
      "source": [
        "oldAge = input(\"U age before 2 years: \\n\")\n",
        "newAge = int(oldAge) + 2\n",
        "print (newAge)"
      ],
      "metadata": {
        "id": "0v-cYpzs0eE9",
        "outputId": "30204791-1f86-4862-93a8-a8e426e78ddd",
        "colab": {
          "base_uri": "https://localhost:8080/"
        }
      },
      "id": "0v-cYpzs0eE9",
      "execution_count": 7,
      "outputs": [
        {
          "output_type": "stream",
          "name": "stdout",
          "text": [
            "U age before 2 years: \n",
            "19\n",
            "21\n"
          ]
        }
      ]
    },
    {
      "cell_type": "code",
      "source": [
        "first = input(\"1st num\\n\")\n",
        "sec = input(\"2nd num\\n\")\n",
        "\n",
        "sum = int(first) + int(sec)\n",
        "\n",
        "print(\"The sum is: \" + str(sum))"
      ],
      "metadata": {
        "id": "AW3n35aY1JOg",
        "outputId": "a65546ae-f462-4354-c9ae-c00a47d298db",
        "colab": {
          "base_uri": "https://localhost:8080/"
        }
      },
      "id": "AW3n35aY1JOg",
      "execution_count": 10,
      "outputs": [
        {
          "output_type": "stream",
          "name": "stdout",
          "text": [
            "1st num\n",
            "5\n",
            "2nd num\n",
            "15\n",
            "The sum is: 20\n"
          ]
        }
      ]
    },
    {
      "cell_type": "code",
      "source": [
        "#strings\n",
        "name = \"Saidarshan Sahu\"\n",
        "print(name.upper())\n",
        "print(name.lower())\n",
        "print(name.find('s'))\n",
        "print(name.replace(\"Saidarshan\", \"StarkByteX\"))\n",
        "print('s' in name)\n",
        "\n",
        "print(name)"
      ],
      "metadata": {
        "id": "AGfytDKb1QPq",
        "outputId": "9fbc27bd-b119-4bee-d769-a51892f9bd0a",
        "colab": {
          "base_uri": "https://localhost:8080/"
        }
      },
      "id": "AGfytDKb1QPq",
      "execution_count": 14,
      "outputs": [
        {
          "output_type": "stream",
          "name": "stdout",
          "text": [
            "SAIDARSHAN SAHU\n",
            "saidarshan sahu\n",
            "6\n",
            "StarkByteX Sahu\n",
            "True\n",
            "Saidarshan Sahu\n"
          ]
        }
      ]
    },
    {
      "cell_type": "code",
      "source": [
        "#arithmetic\n",
        "print(5 * 2)\n",
        "print(5 / 2)\n",
        "print(5 //2)\n",
        "print(5 % 2)\n",
        "print(5 ** 2)\n",
        "\n",
        "#operator precedence\n",
        "result = 2 + 3 * 5\n",
        "print(result)"
      ],
      "metadata": {
        "id": "rseDzdML2Fox",
        "outputId": "a7a9878c-1596-4ebf-d21a-5740f94df56c",
        "colab": {
          "base_uri": "https://localhost:8080/"
        }
      },
      "id": "rseDzdML2Fox",
      "execution_count": 18,
      "outputs": [
        {
          "output_type": "stream",
          "name": "stdout",
          "text": [
            "10\n",
            "2.5\n",
            "2\n",
            "1\n",
            "25\n",
            "17\n"
          ]
        }
      ]
    },
    {
      "cell_type": "code",
      "source": [
        "#if else\n",
        "age = int(input())\n",
        "if age >= 18:\n",
        "  print(\"U r an adult.\")\n",
        "  print(\"U can drive\")\n",
        "elif age < 18 and age > 3:\n",
        "  print(\"U r in school lah\")\n",
        "else:\n",
        "  print(\"U r a child\")\n"
      ],
      "metadata": {
        "id": "DYUGCR0E2s1B",
        "outputId": "d88310fb-3f69-4e24-edf5-5021ac2c46ee",
        "colab": {
          "base_uri": "https://localhost:8080/"
        }
      },
      "id": "DYUGCR0E2s1B",
      "execution_count": 25,
      "outputs": [
        {
          "output_type": "stream",
          "name": "stdout",
          "text": [
            "13\n",
            "U r in school lah\n"
          ]
        }
      ]
    },
    {
      "cell_type": "code",
      "source": [
        "#range\n",
        "number = range(5)\n",
        "print(number)\n",
        "for i in range(5):\n",
        "  print(i)"
      ],
      "metadata": {
        "id": "bEPhhTZ334iD",
        "outputId": "2341943b-2f14-459b-e7a3-54c6d3bebdc8",
        "colab": {
          "base_uri": "https://localhost:8080/"
        }
      },
      "id": "bEPhhTZ334iD",
      "execution_count": 28,
      "outputs": [
        {
          "output_type": "stream",
          "name": "stdout",
          "text": [
            "range(0, 5)\n",
            "0\n",
            "1\n",
            "2\n",
            "3\n",
            "4\n"
          ]
        }
      ]
    },
    {
      "cell_type": "code",
      "source": [
        "#loop\n",
        "a = 1\n",
        "while a <= 5:\n",
        "  spaces = 5 - a\n",
        "  while spaces > 0:\n",
        "    print(\" \", end = \"\")\n",
        "    spaces -= 1\n",
        "  stars = a\n",
        "  while stars > 0:\n",
        "    print(\"*\", end=\"\")\n",
        "    stars -=1\n",
        "  print()\n",
        "  a += 1\n",
        "\n",
        "b = 5\n",
        "while b >= 1:\n",
        "  spaces = 5 - b\n",
        "  while spaces > 0:\n",
        "    print(\" \", end = \"\")\n",
        "    spaces -= 1\n",
        "  stars = b\n",
        "  while stars > 0:\n",
        "    print(\"*\", end=\"\")\n",
        "    stars -= 1\n",
        "  print()\n",
        "  b -= 1\n",
        "\n",
        "i = 1\n",
        "while i <= 5:\n",
        "  print(i * \"*\")\n",
        "  i = i +1\n",
        "\n",
        "j = 5\n",
        "while j >= 0:\n",
        "  print(j * \"*\")\n",
        "  j = j - 1\n"
      ],
      "metadata": {
        "id": "Eifne-xU5HX7",
        "outputId": "9e484beb-f80e-4364-ac1a-e7108018e179",
        "colab": {
          "base_uri": "https://localhost:8080/"
        }
      },
      "id": "Eifne-xU5HX7",
      "execution_count": 41,
      "outputs": [
        {
          "output_type": "stream",
          "name": "stdout",
          "text": [
            "    *\n",
            "   **\n",
            "  ***\n",
            " ****\n",
            "*****\n",
            "*****\n",
            " ****\n",
            "  ***\n",
            "   **\n",
            "    *\n",
            "*\n",
            "**\n",
            "***\n",
            "****\n",
            "*****\n",
            "*****\n",
            "****\n",
            "***\n",
            "**\n",
            "*\n",
            "\n"
          ]
        }
      ]
    },
    {
      "cell_type": "code",
      "source": [
        "#list\n",
        "marks = [97,56,89]\n",
        "print(marks)\n",
        "print(marks[0])\n",
        "print(marks[1])\n",
        "print(marks[2])\n",
        "\n",
        "print(marks[-1])\n",
        "print(marks[-2])\n",
        "print(marks[-3])\n",
        "\n",
        "print(marks[0:2])\n",
        "print(marks[1:3])\n",
        "\n",
        "marks.append(78)\n",
        "marks.insert(0, 99)\n",
        "\n",
        "print(marks)\n",
        "\n",
        "print(len(marks))\n",
        "\n",
        "for scores in marks:\n",
        "  print(scores)\n",
        "\n",
        "marks.clear()\n",
        "print(marks)"
      ],
      "metadata": {
        "id": "I4psgJ_F5hPg",
        "outputId": "ecadde52-8397-4075-d1fd-b139436c3bb7",
        "colab": {
          "base_uri": "https://localhost:8080/"
        }
      },
      "id": "I4psgJ_F5hPg",
      "execution_count": 54,
      "outputs": [
        {
          "output_type": "stream",
          "name": "stdout",
          "text": [
            "[97, 56, 89]\n",
            "97\n",
            "56\n",
            "89\n",
            "89\n",
            "56\n",
            "97\n",
            "[97, 56]\n",
            "[56, 89]\n",
            "[99, 97, 56, 89, 78]\n",
            "5\n",
            "99\n",
            "97\n",
            "56\n",
            "89\n",
            "78\n",
            "[]\n"
          ]
        }
      ]
    },
    {
      "cell_type": "code",
      "source": [
        "#break & continue\n",
        "students = [\"sai\", \"sahu\", \"stark\", \"byte\", \"x\"]\n",
        "\n",
        "for student in students:\n",
        "  # if student == \"stark\":\n",
        "  #   break;\n",
        "  if student == \"byte\":\n",
        "    continue;\n",
        "  print(student)"
      ],
      "metadata": {
        "id": "6iKtsJJnABC0",
        "outputId": "3a42448d-7f03-4e83-9770-6c88fe7c9181",
        "colab": {
          "base_uri": "https://localhost:8080/"
        }
      },
      "id": "6iKtsJJnABC0",
      "execution_count": 59,
      "outputs": [
        {
          "output_type": "stream",
          "name": "stdout",
          "text": [
            "sai\n",
            "sahu\n",
            "stark\n",
            "x\n"
          ]
        }
      ]
    },
    {
      "cell_type": "code",
      "source": [
        "#Tuple\n",
        "marks = (99, 98, 97, 98, 98 , 98)\n",
        "print(marks.count(98))\n",
        "print(marks.index(98))\n",
        "\n",
        "num = 1, 2, 3 #By default it is a tuple\n",
        "print(num)"
      ],
      "metadata": {
        "id": "55WGXOzqBDw6",
        "outputId": "775d4b0c-4dc6-4549-df16-cf773b0aafd8",
        "colab": {
          "base_uri": "https://localhost:8080/"
        }
      },
      "id": "55WGXOzqBDw6",
      "execution_count": 64,
      "outputs": [
        {
          "output_type": "stream",
          "name": "stdout",
          "text": [
            "4\n",
            "1\n",
            "(1, 2, 3)\n"
          ]
        }
      ]
    },
    {
      "cell_type": "code",
      "source": [
        "#set\n",
        "marks = {99, 98, 97, 98, 98 , 98}\n",
        "print(marks)\n",
        "\n",
        "# print(marks[0]) #index does not exsit in set\n",
        "\n",
        "for score in marks:\n",
        "  print(score)"
      ],
      "metadata": {
        "id": "Eqh4udR6B8Sq",
        "outputId": "3cb01630-711b-4c75-ff9a-7da9dfeef7c4",
        "colab": {
          "base_uri": "https://localhost:8080/"
        }
      },
      "id": "Eqh4udR6B8Sq",
      "execution_count": 67,
      "outputs": [
        {
          "output_type": "stream",
          "name": "stdout",
          "text": [
            "{97, 98, 99}\n",
            "97\n",
            "98\n",
            "99\n"
          ]
        }
      ]
    },
    {
      "cell_type": "code",
      "source": [
        "#dictionary\n",
        "superhero = {\"Tony Stark\" : \"Ironman\", \"Bruce Wayne\" : \"Batman\", \"Clark Kent\" : \"Superman\"}\n",
        "print(superhero[\"Tony Stark\"])\n",
        "print(superhero[\"Bruce Wayne\"])\n",
        "print(superhero[\"Clark Kent\"])\n",
        "\n",
        "superhero[\"Peter Parker\"] = \"Spiderman\";\n",
        "print(superhero)\n",
        "print(superhero[\"Peter Parker\"])\n",
        "\n",
        "del superhero[\"Peter Parker\"]\n",
        "\n",
        "for key, value in superhero.items():\n",
        "  print(f\"{key} is actually {value}\")"
      ],
      "metadata": {
        "id": "D9dhjsvPCnLm",
        "outputId": "644a7ef7-5b06-4947-9ac6-34e523b2e424",
        "colab": {
          "base_uri": "https://localhost:8080/"
        }
      },
      "id": "D9dhjsvPCnLm",
      "execution_count": 74,
      "outputs": [
        {
          "output_type": "stream",
          "name": "stdout",
          "text": [
            "Ironman\n",
            "Batman\n",
            "Superman\n",
            "{'Tony Stark': 'Ironman', 'Bruce Wayne': 'Batman', 'Clark Kent': 'Superman', 'Peter Parker': 'Spiderman'}\n",
            "Spiderman\n",
            "Tony Stark is actually Ironman\n",
            "Bruce Wayne is actually Batman\n",
            "Clark Kent is actually Superman\n"
          ]
        }
      ]
    },
    {
      "cell_type": "code",
      "source": [
        "#function\n",
        "\n",
        "#inbuilt fun\n",
        "int()\n",
        "str()\n",
        "\n",
        "import math\n",
        "# print(dir(math))\n",
        "\n",
        "# from math import sqrt\n",
        "# from math import *\n",
        "sqrt(55)\n",
        "\n",
        "\n",
        "#user fun\n",
        "def print_sum(fir, sec):\n",
        "  print(fir + sec)\n",
        "\n",
        "print_sum(10, 3)"
      ],
      "metadata": {
        "id": "l-tM_jzrDXQb",
        "outputId": "1e6521ee-26aa-4b4e-b59f-fe943aca5e4e",
        "colab": {
          "base_uri": "https://localhost:8080/"
        }
      },
      "id": "l-tM_jzrDXQb",
      "execution_count": 82,
      "outputs": [
        {
          "output_type": "stream",
          "name": "stdout",
          "text": [
            "13\n"
          ]
        }
      ]
    },
    {
      "cell_type": "code",
      "source": [],
      "metadata": {
        "id": "VrDOTgg9EbfR"
      },
      "id": "VrDOTgg9EbfR",
      "execution_count": null,
      "outputs": []
    }
  ],
  "metadata": {
    "language_info": {
      "name": "python"
    },
    "colab": {
      "provenance": [],
      "include_colab_link": true
    },
    "kernelspec": {
      "name": "python3",
      "display_name": "Python 3"
    }
  },
  "nbformat": 4,
  "nbformat_minor": 5
}